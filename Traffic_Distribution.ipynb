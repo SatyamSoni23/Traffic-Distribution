{
  "nbformat": 4,
  "nbformat_minor": 0,
  "metadata": {
    "colab": {
      "provenance": []
    },
    "kernelspec": {
      "name": "python3",
      "display_name": "Python 3"
    },
    "language_info": {
      "name": "python"
    }
  },
  "cells": [
    {
      "cell_type": "code",
      "execution_count": 187,
      "metadata": {
        "id": "Sz13O3jURdF5"
      },
      "outputs": [],
      "source": [
        "import random"
      ]
    },
    {
      "cell_type": "code",
      "source": [
        "def getRatio():\n",
        "  ratio = [5, 5]\n",
        "  return ratio"
      ],
      "metadata": {
        "id": "50QFFWAPR0dB"
      },
      "execution_count": 213,
      "outputs": []
    },
    {
      "cell_type": "code",
      "source": [
        "def getMaxLength():\n",
        "  length = 100000\n",
        "  return length"
      ],
      "metadata": {
        "id": "sVDJHh2TbrV6"
      },
      "execution_count": 210,
      "outputs": []
    },
    {
      "cell_type": "code",
      "source": [
        "def getTotalRequest():\n",
        "  total_request = 10000\n",
        "  return total_request"
      ],
      "metadata": {
        "id": "A8OJkveQb_nS"
      },
      "execution_count": 211,
      "outputs": []
    },
    {
      "cell_type": "code",
      "source": [
        "def createArrayOfNumber(length):\n",
        "  array = []\n",
        "  for i in range(0, length+1):\n",
        "    array.append(i)\n",
        "  return array"
      ],
      "metadata": {
        "id": "GLXKoHM7SDUd"
      },
      "execution_count": 191,
      "outputs": []
    },
    {
      "cell_type": "code",
      "source": [
        "def mixUpNumber(array):\n",
        "  random.shuffle(array)\n",
        "  return array"
      ],
      "metadata": {
        "id": "lJxPzAToSL9r"
      },
      "execution_count": 192,
      "outputs": []
    },
    {
      "cell_type": "code",
      "source": [
        "def distributeMappingAccordingToTheirRatio(array, ratio, length):\n",
        "  ratio_collection = []\n",
        "  \n",
        "  ratio_sum = 0\n",
        "  for i in ratio:\n",
        "    ratio_sum += i;\n",
        "\n",
        "  index = 0\n",
        "  for i in range(0, len(ratio)):\n",
        "    collection = []\n",
        "    upper_limit = int ((ratio[i]*length)/ratio_sum)\n",
        "    for j in range(0, upper_limit):\n",
        "      collection.append(array[index])\n",
        "      index += 1\n",
        "    ratio_collection.append(collection)\n",
        "  return ratio_collection"
      ],
      "metadata": {
        "id": "xwDM-lnVTEwG"
      },
      "execution_count": 193,
      "outputs": []
    },
    {
      "cell_type": "code",
      "source": [
        "def getVendor(ratio_collection, number):\n",
        "\n",
        "  for i in range(0, len(ratio_collection)):\n",
        "    for j in ratio_collection[i]:\n",
        "      if number == j :\n",
        "        return i\n",
        "\n",
        "  return len(ratio_collection)-1"
      ],
      "metadata": {
        "id": "BdR-7OYJVfCo"
      },
      "execution_count": 194,
      "outputs": []
    },
    {
      "cell_type": "code",
      "source": [
        "def excuteTrafficDistribution(request_number_arrays, ratio, length):\n",
        "  \n",
        "  array = createArrayOfNumber(length)\n",
        "  black_box_array = mixUpNumber(array)\n",
        "  ratio_collection = distributeMappingAccordingToTheirRatio(black_box_array, ratio, length)\n",
        "\n",
        "  ratio_result = {}\n",
        "\n",
        "  for i in range(0, len(ratio)):\n",
        "    ratio_result[i] = []\n",
        "\n",
        "  for i in request_number_arrays:\n",
        "    vendor = getVendor(ratio_collection, i)\n",
        "    ratio_result[vendor].append(i)\n",
        "  return ratio_result"
      ],
      "metadata": {
        "id": "LhPCtyrGWgsC"
      },
      "execution_count": 195,
      "outputs": []
    },
    {
      "cell_type": "code",
      "source": [
        "def createRequestNumberArrays(length, total_request):\n",
        "  request = []\n",
        "  for i in range(total_request):\n",
        "    request.append(random.randint(0, length))\n",
        "  return request"
      ],
      "metadata": {
        "id": "2pHdns00YdlO"
      },
      "execution_count": 196,
      "outputs": []
    },
    {
      "cell_type": "code",
      "source": [
        "def driveFrunction():\n",
        "\n",
        "  ratio = getRatio()\n",
        "  length = getMaxLength()\n",
        "  total_request = getTotalRequest()\n",
        "  request_number_arrays = createRequestNumberArrays(length, total_request)\n",
        "  ratio_result = excuteTrafficDistribution(request_number_arrays, ratio, length)\n",
        "  return ratio_result;"
      ],
      "metadata": {
        "id": "D-Em4JdrbIYv"
      },
      "execution_count": 197,
      "outputs": []
    },
    {
      "cell_type": "code",
      "source": [
        "def reviewAlgo():\n",
        "  result = driveFrunction()\n",
        "  for i in range(0, len(result)):\n",
        "    print(i, \" --- \", len(result[i]))"
      ],
      "metadata": {
        "id": "Z_nuQwudZl7i"
      },
      "execution_count": 198,
      "outputs": []
    },
    {
      "cell_type": "code",
      "source": [
        "reviewAlgo()"
      ],
      "metadata": {
        "colab": {
          "base_uri": "https://localhost:8080/"
        },
        "id": "j69dUH1AchQl",
        "outputId": "f64be10c-32ec-4047-8f3d-c188d3007d04"
      },
      "execution_count": 214,
      "outputs": [
        {
          "output_type": "stream",
          "name": "stdout",
          "text": [
            "0  ---  4970\n",
            "1  ---  5030\n"
          ]
        }
      ]
    },
    {
      "cell_type": "code",
      "source": [],
      "metadata": {
        "id": "87y51g-yaILz"
      },
      "execution_count": null,
      "outputs": []
    }
  ]
}